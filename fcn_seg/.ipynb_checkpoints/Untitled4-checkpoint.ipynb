{
 "cells": [
  {
   "cell_type": "code",
   "execution_count": null,
   "metadata": {
    "collapsed": false,
    "scrolled": true
   },
   "outputs": [
    {
     "name": "stdout",
     "output_type": "stream",
     "text": [
      " net time: 26.976952\n",
      "0.96286400118\n",
      "2 [ 0.94254518  0.96286398] 0.952705\n",
      "net time: 26.18345\n",
      "0.985575093134\n",
      "5 [ 0.9681583   0.98557508] 0.976867\n",
      "net time: 26.328796\n",
      "0.895445418308\n",
      "8 [ 0.80441165  0.89544541] 0.849928\n",
      "net time: 26.239696\n",
      "0.953420611678\n",
      "11 [ 0.96750033  0.95342064] 0.96046\n",
      "net time: 26.232189\n",
      "0.960729222692\n",
      "12 [ 0.87867367  0.96072924] 0.919701\n",
      "net time: 26.275988\n",
      "0.924964992742\n",
      "14 [ 0.75663131  0.92496496] 0.840798\n",
      "net time: 26.37362\n",
      "0.981297984645\n",
      "16 [ 0.98006368  0.98129797] 0.980681\n",
      "net time: 26.315915\n",
      "0.985247531125\n",
      "24 [ 0.9071641   0.98524755] 0.946206\n",
      "net time: 26.26875\n",
      "0.879007068429\n",
      "37 [ 0.72478282  0.87900704] 0.801895\n",
      "net time: 26.322829\n",
      "0.878336245495\n",
      "40 [ 0.71845996  0.87833625] 0.798398\n",
      "net time: 26.193558\n",
      "0.963296086912\n",
      "44 [ 0.87195212  0.96329612] 0.917624\n",
      "net time: 26.084397\n",
      "0.928902257585\n",
      "55 [ 0.88598669  0.92890227] 0.907444\n",
      "net time: 26.253704\n",
      "0.966943662294\n",
      "59 [ 0.86984348  0.96694368] 0.918394\n",
      "net time: 26.123289\n",
      "0.987685523015\n",
      "61 [ 0.99018538  0.9876855 ] 0.988935\n",
      "net time: 26.114974\n",
      "0.981713045978\n",
      "62 [ 0.95852685  0.98171306] 0.97012\n",
      "net time: 26.291854\n",
      "0.977381989362\n",
      "64 [ 0.97179139  0.977382  ] 0.974587\n",
      "net time: 26.378164\n",
      "0.89022351474\n",
      "65 [ 0.72549349  0.8902235 ] 0.807858\n",
      "net time: 26.265885\n",
      "0.982821730311\n",
      "73 [ 0.98515552  0.9828217 ] 0.983989\n",
      "net time: 26.135341\n",
      "0.983128210814\n",
      "75 [ 0.94060022  0.98312819] 0.961864\n",
      "net time: 26.138174\n",
      "0.877326879306\n",
      "76 [ 0.89941937  0.87732691] 0.888373\n",
      "net time: 26.186057\n",
      "0.979302613476\n",
      "79 [ 0.95495409  0.97930259] 0.967128\n",
      "net time: 26.133526\n",
      "0.895373788331\n",
      "80 [ 0.8940593   0.89537376] 0.894717\n",
      "net time: 26.133018\n",
      "0.90167809794\n",
      "83 [ 0.84936494  0.90167809] 0.875522\n",
      "net time: 26.087954\n",
      "0.974026420269\n",
      "85 [ 0.9505595   0.97402644] 0.962293\n",
      "net time: 26.251218\n",
      "0.845222920474\n",
      "93 [ 0.73359895  0.84522295] 0.789411\n",
      "net time: 26.066753\n",
      "0.759798095257\n",
      "94 [ 0.47098857  0.75979811] 0.615393\n",
      "net time: 26.092413\n",
      "0.966309801604\n",
      "96 [ 0.94703448  0.96630979] 0.956672\n",
      "net time: 26.166866\n",
      "0.977610188806\n",
      "107 [ 0.94103146  0.97761017] 0.959321\n",
      "net time: 26.197925\n",
      "0.957082282833\n",
      "111 [ 0.95740134  0.95708227] 0.957242\n",
      "net time: 26.203958\n",
      "0.878709782814\n",
      "122 [ 0.74370617  0.87870979] 0.811208\n",
      "net time: 26.139685\n",
      "0.936536934075\n",
      "131 [ 0.90266782  0.93653691] 0.919602\n",
      "net time: 26.3459\n",
      "0.903759385448\n",
      "136 [ 0.80137533  0.90375936] 0.852567\n",
      "net time: 26.287998\n",
      "0.972502381813\n",
      "139 [ 0.94036067  0.97250241] 0.956432\n",
      "net time: 26.20424\n",
      "0.942505381742\n",
      "147 [ 0.81984997  0.94250536] 0.881178\n",
      "net time: 26.168867\n",
      "0.861639329403\n",
      "150 [ 0.85453987  0.86163932] 0.85809\n"
     ]
    }
   ],
   "source": [
    "# Eval Eg-3input model\n",
    "import numpy as np\n",
    "from PIL import Image\n",
    "import sys\n",
    "sys.path.insert(0,'../../[EG_code_data]_release/caffe-portraitseg/python/')\n",
    "import caffe\n",
    "import os\n",
    "\n",
    "import scipy.io as sio    \n",
    "import matplotlib.pyplot as plt  \n",
    "#%matplotlib inline\n",
    "plt.rcParams['figure.figsize']=[15,15]\n",
    "import time\n",
    "import scipy.misc\n",
    "\n",
    "INPUT_CHANNEL = 3\n",
    "MEAN = [114.578, 115.294, 108.353]\n",
    "DATASET = 'douyu_7100'\n",
    "n_cl = 2\n",
    "\n",
    "# load net\n",
    "DEPLOY = '../../[EG_code_data]_release/testing/our_models/deploy_3channels.prototxt'\n",
    "CAFFEMODEL = '../../[EG_code_data]_release/testing/our_models/bgr.caffemodel'\n",
    "net = caffe.Net(DEPLOY, CAFFEMODEL, caffe.TEST)\n",
    "\n",
    "#imglist = open('./data/'+DATASET+'/test.txt').readlines()\n",
    "imglist = sio.loadmat('../../[EG_code_data]_release/data/testlist.mat')['testlist']\n",
    "datanum = len(imglist)\n",
    "\n",
    "def fast_hist(a, b, n):\n",
    "    k = (a >= 0) & (a < n)\n",
    "    return np.bincount(n * a[k].astype(int) + b[k], minlength=n**2).reshape(n,n)\n",
    "\n",
    "hist = 0                   \n",
    "\n",
    "allIoU = 0;\n",
    "numimg = 0;\n",
    "for img in imglist[0]:  \n",
    "    if os.path.exists('../../[EG_code_data]_release/data/portraitFCN_data/%05d.mat'%img):\n",
    "        im = sio.loadmat('../../[EG_code_data]_release/data/portraitFCN_data/%05d.mat'%img)['img']  \n",
    "        numimg = numimg + 1\n",
    "\n",
    "        in_ = np.array(im, dtype=np.float32)\n",
    "        #in_ = in_[:,:,::-1]\n",
    "        in_ = in_.transpose((2,0,1))\n",
    "\n",
    "        # load label\n",
    "        label = sio.loadmat('../../[EG_code_data]_release/data/images_mask/%05d_mask.mat'%img)['mask']\n",
    "        label[label!=0]==1\n",
    "\n",
    "        if INPUT_CHANNEL==3:\n",
    "            imshape = (600, 800, 3)\n",
    "            in_batch = np.ndarray(shape=(1, imshape[2], imshape[1], imshape[0]), dtype=np.float32)\n",
    "            in_batch[0,0:3,:,:] = in_.copy()\n",
    "        start = time.clock()\n",
    "        # shape for input (data blob is N x C x H x W), set data\n",
    "        net.blobs['data'].reshape(*in_batch.shape)\n",
    "        net.blobs['data'].data[...] = in_batch\n",
    "\n",
    "        # run net and take argmax for prediction\n",
    "        net.forward()\n",
    "        print 'net time: {}'.format(time.clock()-start)\n",
    "        out = net.blobs['upscore'].data[0].argmax(axis=0)\n",
    "\n",
    "        res = net.blobs['upscore'].data[0]\n",
    "        diffs = np.exp(res[1,:,:]-res[0,:,:])\n",
    "        finalres = diffs/(1+diffs)\n",
    "        finalres = np.asarray(finalres,'float32')\n",
    "        finalres[finalres>0.5] = 1\n",
    "        finalres[finalres<=0.5] = 0\n",
    "        temp = np.sum(finalres[:]*label[:])/np.sum(((finalres[:]+label[:])>0))\n",
    "        print temp\n",
    "        \n",
    "        this_hist =  fast_hist(label.flatten(),out.flatten(),n_cl)\n",
    "        this_hist = np.array(this_hist, dtype=np.float32)\n",
    "        this_iu = np.diag(this_hist) / (this_hist.sum(1) + this_hist.sum(0) - np.diag(this_hist))\n",
    "        if np.isnan(this_iu[0]):\n",
    "            this_iu[0] = 1\n",
    "        if np.isnan(this_iu[1]):\n",
    "            this_iu[1] = 1\n",
    "        allIoU += this_iu[1];\n",
    "        print img, this_iu, np.mean(this_iu) # first is neg iou, second is pos iou \n",
    "        hist += this_hist\n",
    "            \n",
    "hist = np.array(hist, dtype=np.float32)\n",
    "iu = np.diag(hist) / (hist.sum(1) + hist.sum(0) - np.diag(hist))\n",
    "print '================================= result ================================='\n",
    "print 'INPUT_CHANNEL: ',INPUT_CHANNEL\n",
    "print 'DEPLOY: ',DEPLOY\n",
    "print 'CAFFEMODEL: ',CAFFEMODEL\n",
    "print 'TEST DATASET: ',DATASET,\n",
    "print 'TEST DATASET NUM: ',datanum\n",
    "print 'IOU: ', iu, np.mean(iu)    \n",
    "print 'allIOU: ', float(allIoU)/numimg, numimg\n",
    "\n",
    "\n"
   ]
  },
  {
   "cell_type": "code",
   "execution_count": 14,
   "metadata": {
    "collapsed": false
   },
   "outputs": [
    {
     "data": {
      "text/plain": [
       "(2, 800, 600)"
      ]
     },
     "execution_count": 14,
     "metadata": {},
     "output_type": "execute_result"
    }
   ],
   "source": [
    " res = net.blobs['upscore'].data[0]\n",
    "res.shape"
   ]
  },
  {
   "cell_type": "code",
   "execution_count": 20,
   "metadata": {
    "collapsed": false
   },
   "outputs": [
    {
     "name": "stdout",
     "output_type": "stream",
     "text": [
      "(800, 600)\n"
     ]
    }
   ],
   "source": [
    "diffs = np.exp(res[1,:,:]-res[0,:,:]);\n",
    "print diffs.shape"
   ]
  },
  {
   "cell_type": "code",
   "execution_count": 26,
   "metadata": {
    "collapsed": false
   },
   "outputs": [
    {
     "name": "stdout",
     "output_type": "stream",
     "text": [
      "[[ 0.  0.  0. ...,  0.  0.  0.]\n",
      " [ 0.  0.  0. ...,  0.  0.  0.]\n",
      " [ 0.  0.  0. ...,  0.  0.  0.]\n",
      " ..., \n",
      " [ 1.  1.  1. ...,  0.  0.  0.]\n",
      " [ 1.  1.  1. ...,  0.  0.  0.]\n",
      " [ 1.  1.  1. ...,  0.  0.  0.]]\n"
     ]
    }
   ],
   "source": [
    "finalres = diffs/(1+diffs);\n",
    "finalres = np.asarray(finalres,'float32')\n",
    "finalres[finalres>0.5] = 1\n",
    "finalres[finalres<=0.5] = 0\n",
    "print finalres"
   ]
  },
  {
   "cell_type": "code",
   "execution_count": 30,
   "metadata": {
    "collapsed": false
   },
   "outputs": [
    {
     "name": "stdout",
     "output_type": "stream",
     "text": [
      "0.96286400118\n"
     ]
    }
   ],
   "source": [
    "print np.sum(finalres[:]*label[:])/np.sum(((finalres[:]+label[:])>0))"
   ]
  },
  {
   "cell_type": "code",
   "execution_count": null,
   "metadata": {
    "collapsed": true
   },
   "outputs": [],
   "source": []
  }
 ],
 "metadata": {
  "kernelspec": {
   "display_name": "Python 2",
   "language": "python",
   "name": "python2"
  },
  "language_info": {
   "codemirror_mode": {
    "name": "ipython",
    "version": 2
   },
   "file_extension": ".py",
   "mimetype": "text/x-python",
   "name": "python",
   "nbconvert_exporter": "python",
   "pygments_lexer": "ipython2",
   "version": "2.7.6"
  }
 },
 "nbformat": 4,
 "nbformat_minor": 2
}
