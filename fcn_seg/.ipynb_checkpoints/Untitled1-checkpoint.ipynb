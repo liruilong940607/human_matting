{
 "cells": [
  {
   "cell_type": "code",
   "execution_count": 1,
   "metadata": {
    "collapsed": false
   },
   "outputs": [
    {
     "ename": "SyntaxError",
     "evalue": "invalid syntax (<ipython-input-1-daff78e81259>, line 60)",
     "output_type": "error",
     "traceback": [
      "\u001b[0;36m  File \u001b[0;32m\"<ipython-input-1-daff78e81259>\"\u001b[0;36m, line \u001b[0;32m60\u001b[0m\n\u001b[0;31m    else if INPUT_CHANNEL==3:\u001b[0m\n\u001b[0m          ^\u001b[0m\n\u001b[0;31mSyntaxError\u001b[0m\u001b[0;31m:\u001b[0m invalid syntax\n"
     ]
    }
   ],
   "source": [
    "# Eval 3input model\n",
    "import numpy as np\n",
    "from PIL import Image\n",
    "import sys\n",
    "sys.path.insert(0,'./caffe/python')\n",
    "import caffe\n",
    "import os\n",
    "\n",
    "import scipy.io as sio    \n",
    "import matplotlib.pyplot as plt  \n",
    "#%matplotlib inline\n",
    "plt.rcParams['figure.figsize']=[15,15]\n",
    "import time\n",
    "import scipy.misc\n",
    "\n",
    "INPUT_CHANNEL = 3\n",
    "MEAN = [114.578, 115.294, 108.353]\n",
    "DATASET = 'douyu_7100'\n",
    "n_cl = 2\n",
    "\n",
    "# load net\n",
    "DEPLOY = './experiment/exper_douyu2700_googlenet/deploy_ori.prototxt'\n",
    "CAFFEMODEL = './experiment/exper_douyu2700_googlenet/snapshot/douyu2700_train_without_bn_iter_130000.caffemodel'\n",
    "net = caffe.Net(DEPLOY, CAFFEMODEL, caffe.TEST)\n",
    "\n",
    "imglist = open('./data/'+DATASET+'/test.txt').readlines()\n",
    "datanum = len(imglist)\n",
    "\n",
    "def fast_hist(a, b, n):\n",
    "    k = (a >= 0) & (a < n)\n",
    "    return np.bincount(n * a[k].astype(int) + b[k], minlength=n**2).reshape(n,n)\n",
    "\n",
    "hist = 0\n",
    "\n",
    "for img in imglist:\n",
    "    img = img.strip()\n",
    "    \n",
    "    # load image, switch to BGR, subtract mean, and make dims C x H x W for Caffe\n",
    "    im = Image.open('./data/'+DATASET+'/Images/'+img+'.png')\n",
    "    in_ = np.array(im, dtype=np.float32)\n",
    "    in_ = in_[:,:,::-1]\n",
    "    in_ -= np.array(MEAN)\n",
    "    in_ = in_.transpose((2,0,1))\n",
    "    \n",
    "    # load label\n",
    "    label = sio.loadmat('./data/'+DATASET+'/Labels/'+img+'.mat')['label']\n",
    "    label[label!=0]==1\n",
    "    \n",
    "    if INPUT_CHANNEL==4:\n",
    "        imshape = (368, 640, 4)\n",
    "        in_batch = np.ndarray(shape=(1, imshape[2], imshape[1], imshape[0]), dtype=np.float32)\n",
    "        in_batch[0,0:3,:,:] = in_.copy()\n",
    "        \n",
    "        # load 4-th channel\n",
    "        im_pred = Image.open('./data/'+DATASET+'/pred_xijin/{}.png_pred.png'.format(img))\n",
    "        in_ = np.array(im_pred, dtype=np.float32)\n",
    "        in_ -= 128\n",
    "        in_batch[0,3,:,:] = in_.copy()\n",
    "        \n",
    "    elif INPUT_CHANNEL==3:\n",
    "        imshape = (368, 640, 3)\n",
    "        in_batch = np.ndarray(shape=(1, imshape[2], imshape[1], imshape[0]), dtype=np.float32)\n",
    "        in_batch[0,0:3,:,:] = in_.copy()\n",
    "        \n",
    "    # shape for input (data blob is N x C x H x W), set data\n",
    "    net.blobs['data'].reshape(*in_batch.shape)\n",
    "    net.blobs['data'].data[...] = in_batch\n",
    "\n",
    "    # run net and take argmax for prediction\n",
    "    net.forward()\n",
    "    out = net.blobs['score'].data[0].argmax(axis=0)\n",
    "    \n",
    "    this_hist =  fast_hist(label.flatten(),out.flatten(),n_cl)\n",
    "    this_hist = np.array(this_hist, dtype=np.float32)\n",
    "    this_iu = np.diag(this_hist) / (this_hist.sum(1) + this_hist.sum(0) - np.diag(this_hist))\n",
    "    print img, this_iu, np.mean(this_iu) # first is neg iou, second is pos iou \n",
    "    hist += this_hist\n",
    "    \n",
    "hist = np.array(hist, dtype=np.float32)\n",
    "iu = np.diag(hist) / (hist.sum(1) + hist.sum(0) - np.diag(hist))\n",
    "print '================================= result ================================='\n",
    "print 'INPUT_CHANNEL: ',INPUT_CHANNEL\n",
    "print 'MEAN', MEAN\n",
    "print 'DEPLOY: ',DEPLOY\n",
    "print 'CAFFEMODEL: ',CAFFEMODEL\n",
    "print 'TEST DATASET: ',DATASET,\n",
    "print 'TEST DATASET NUM: ',datanum\n",
    "print 'IOU: ', iu, np.mean(iu)    \n",
    "\n",
    "\n"
   ]
  },
  {
   "cell_type": "code",
   "execution_count": null,
   "metadata": {
    "collapsed": true
   },
   "outputs": [],
   "source": []
  }
 ],
 "metadata": {
  "kernelspec": {
   "display_name": "Python 2",
   "language": "python",
   "name": "python2"
  },
  "language_info": {
   "codemirror_mode": {
    "name": "ipython",
    "version": 2
   },
   "file_extension": ".py",
   "mimetype": "text/x-python",
   "name": "python",
   "nbconvert_exporter": "python",
   "pygments_lexer": "ipython2",
   "version": "2.7.6"
  }
 },
 "nbformat": 4,
 "nbformat_minor": 2
}
